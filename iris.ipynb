{
 "cells": [
  {
   "cell_type": "markdown",
   "metadata": {},
   "source": [
    "## Classifying Iris Notebook\n",
    "\n",
    "Please make sure you have **matplotlib** installed in the compute context you choose as kernel. \n",
    "\n",
    "- For local or remote **Docker kernels**, please ensure **notebook** and **matplotlib** are listed in your **conda_dependencies.yml** file under **aml_config** folder.\n",
    "```\n",
    "name: project_environment\n",
    "dependencies:\n",
    "  - python=3.5.2\n",
    "  - scikit-learn\n",
    "  - pip:\n",
    "      - notebook\n",
    "      - matplotlib\n",
    "```"
   ]
  },
  {
   "cell_type": "code",
   "execution_count": 1,
   "metadata": {},
   "outputs": [
    {
     "name": "stderr",
     "output_type": "stream",
     "text": [
      "UsageError: Line magic function `%azureml` not found.\n"
     ]
    }
   ],
   "source": [
    "%matplotlib inline\n",
    "%azureml history off"
   ]
  },
  {
   "cell_type": "code",
   "execution_count": null,
   "metadata": {},
   "outputs": [],
   "source": [
    "import pickle\n",
    "import sys\n",
    "import os\n",
    "import numpy as np\n",
    "import matplotlib.pyplot as plt\n",
    "from mpl_toolkits.mplot3d import Axes3D\n",
    "\n",
    "from sklearn import decomposition\n",
    "from sklearn import datasets\n",
    "from sklearn import preprocessing\n",
    "\n",
    "from sklearn.datasets import load_iris\n",
    "from sklearn.linear_model import LogisticRegression\n",
    "from sklearn.metrics import precision_recall_curve\n",
    "\n",
    "from azureml.logging import get_azureml_logger\n",
    "from azureml.dataprep import package"
   ]
  },
  {
   "cell_type": "code",
   "execution_count": null,
   "metadata": {},
   "outputs": [],
   "source": [
    "logger = get_azureml_logger()\n",
    "print ('Python version: {}'.format(sys.version))\n",
    "print ()"
   ]
  },
  {
   "cell_type": "code",
   "execution_count": null,
   "metadata": {},
   "outputs": [],
   "source": [
    "%azureml history on"
   ]
  },
  {
   "cell_type": "code",
   "execution_count": null,
   "metadata": {},
   "outputs": [],
   "source": [
    "#load Iris dataset from a DataPrep package\n",
    "iris = package.run('iris.dprep', dataflow_idx=0, spark=False)\n",
    "\n",
    "# load features and labels\n",
    "X, Y = iris[['Sepal Length', 'Sepal Width', 'Petal Length', 'Petal Width']].values, iris['Species'].values\n",
    "\n",
    "# tag this cell to measure duration\n",
    "logger.log(\"Cell\",\"Load Data\")\n",
    "logger.log(\"Rows\",iris.shape[0])\n",
    "\n",
    "print ('Iris dataset shape: {}'.format(iris.shape))"
   ]
  },
  {
   "cell_type": "code",
   "execution_count": null,
   "metadata": {},
   "outputs": [],
   "source": [
    "logger.log(\"Cell\", \"Training\")\n",
    "\n",
    "# change regularization rate and you will likely get a different accuracy.\n",
    "reg = 0.01\n",
    "\n",
    "print(\"Regularization rate is {}\".format(reg))\n",
    "logger.log('Regularization Rate', reg)\n",
    "\n",
    "# train a logistic regression model\n",
    "clf = LogisticRegression(C=1/reg).fit(X, Y)\n",
    "print (clf)\n",
    "\n",
    "# Log curves for label value 'Iris-versicolor'\n",
    "y_scores = clf.predict_proba(X)\n",
    "precision, recall, thresholds = precision_recall_curve(Y, y_scores[:,1],pos_label='Iris-versicolor')\n",
    "logger.log(\"Precision\",precision)\n",
    "logger.log(\"Recall\",recall)\n",
    "logger.log(\"Thresholds\",thresholds)\n",
    "\n",
    "accuracy = clf.score(X, Y)\n",
    "logger.log('Accuracy', accuracy)\n",
    "print (\"Accuracy is {}\".format(accuracy))"
   ]
  },
  {
   "cell_type": "code",
   "execution_count": null,
   "metadata": {
    "scrolled": true
   },
   "outputs": [],
   "source": [
    "logger.log(\"Cell\", \"Scoring\")\n",
    "\n",
    "# predict a new sample\n",
    "X_new = [[3.0, 3.6, 1.3, 0.25]]\n",
    "print ('New sample: {}'.format(X_new))\n",
    "pred = clf.predict(X_new)\n",
    "logger.log('Prediction', pred.tolist())\n",
    "\n",
    "print('Predicted class is {}'.format(pred))"
   ]
  },
  {
   "cell_type": "code",
   "execution_count": null,
   "metadata": {},
   "outputs": [],
   "source": [
    "%azureml history off"
   ]
  },
  {
   "cell_type": "code",
   "execution_count": null,
   "metadata": {},
   "outputs": [],
   "source": [
    "# Plot Iris data in 3D\n",
    "centers = [[1, 1], [-1, -1], [1, -1]]\n",
    "\n",
    "fig = plt.figure(1, figsize=(8, 6))\n",
    "plt.clf()\n",
    "ax = Axes3D(fig, rect=[0, 0, .95, 1], elev=48, azim=134)\n",
    "\n",
    "plt.cla()\n",
    "# decompose 4 feature columns into 3 components for 3D plotting\n",
    "pca = decomposition.PCA(n_components=3)\n",
    "pca.fit(X)\n",
    "X = pca.transform(X)\n",
    "\n",
    "le = preprocessing.LabelEncoder()\n",
    "le.fit(Y)\n",
    "Y = le.transform(Y)\n",
    "\n",
    "for name, label in [('Setosa', 0), ('Versicolour', 1), ('Virginica', 2)]:\n",
    "    ax.text3D(X[Y == label, 0].mean(),\n",
    "              X[Y == label, 1].mean() + 1.5,\n",
    "              X[Y == label, 2].mean(), name,\n",
    "              horizontalalignment='center',\n",
    "              bbox=dict(alpha=.5, edgecolor='w', facecolor='w'))\n",
    "# Reorder the labels to have colors matching the cluster results\n",
    "y = np.choose(Y, [1, 2, 0]).astype(np.float)\n",
    "ax.scatter(X[:, 0], X[:, 1], X[:, 2], c=Y, cmap=plt.cm.spectral)\n",
    "\n",
    "ax.w_xaxis.set_ticklabels([])\n",
    "ax.w_yaxis.set_ticklabels([])\n",
    "ax.w_zaxis.set_ticklabels([])\n",
    "\n",
    "plt.show()"
   ]
  },
  {
   "cell_type": "code",
   "execution_count": null,
   "metadata": {},
   "outputs": [],
   "source": []
  }
 ],
 "metadata": {
  "kernelspec": {
   "display_name": "Python 3",
   "language": "python",
   "name": "python3"
  },
  "language_info": {
   "codemirror_mode": {
    "name": "ipython",
    "version": 3
   },
   "file_extension": ".py",
   "mimetype": "text/x-python",
   "name": "python",
   "nbconvert_exporter": "python",
   "pygments_lexer": "ipython3",
   "version": "3.5.2"
  }
 },
 "nbformat": 4,
 "nbformat_minor": 2
}
