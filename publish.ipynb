{
 "cells": [
  {
   "cell_type": "code",
   "execution_count": 1,
   "metadata": {},
   "outputs": [],
   "source": [
    "# Use the Azure Machine Learning data collector to log various metrics\n",
    "from azureml.logging import get_azureml_logger\n",
    "logger = get_azureml_logger()"
   ]
  },
  {
   "cell_type": "code",
   "execution_count": 2,
   "metadata": {},
   "outputs": [],
   "source": [
    "# Use Azure Machine Learning history magic to control history collection\n",
    "# History is off by default, options are \"on\", \"off\", or \"show\"\n",
    "# %azureml history on"
   ]
  },
  {
   "cell_type": "code",
   "execution_count": null,
   "metadata": {},
   "outputs": [],
   "source": [
    "!az login"
   ]
  },
  {
   "cell_type": "code",
   "execution_count": null,
   "metadata": {},
   "outputs": [],
   "source": [
    "# Once you are logged in, now let's execute the following commands to register our environment providers\n",
    "!az provider register -n Microsoft.MachineLearningCompute\n",
    "!az provider register -n Microsoft.ContainerRegistry\n",
    "!az provider register -n Microsoft.ContainerService"
   ]
  },
  {
   "cell_type": "code",
   "execution_count": null,
   "metadata": {},
   "outputs": [],
   "source": [
    "!az provider show -n Microsoft.MachineLearningCompute"
   ]
  },
  {
   "cell_type": "code",
   "execution_count": null,
   "metadata": {},
   "outputs": [],
   "source": [
    "!az provider show -n Microsoft.ContainerRegistry"
   ]
  },
  {
   "cell_type": "code",
   "execution_count": null,
   "metadata": {},
   "outputs": [],
   "source": [
    "!az provider show -n Microsoft.ContainerService"
   ]
  },
  {
   "cell_type": "code",
   "execution_count": null,
   "metadata": {},
   "outputs": [],
   "source": [
    "# command format az group create --name {group name} --location {azure region}\n",
    "!az group create --name mlistrg --location westus"
   ]
  },
  {
   "cell_type": "code",
   "execution_count": null,
   "metadata": {},
   "outputs": [],
   "source": [
    "# command format az ml account modelmanagement create -l {resource targeted region} -n {model management name} -g {name of created resource group}\n",
    "!az ml account modelmanagement create -l eastus2 -n mlistmodelmgmt -g mlistrg"
   ]
  },
  {
   "cell_type": "code",
   "execution_count": null,
   "metadata": {},
   "outputs": [],
   "source": [
    "# command format az ml account modelmanagement set -n {your model management account name} -g {name of created resource group}\n",
    "!az ml account modelmanagement set -n mlistmodelmgmt -g mlistrg"
   ]
  },
  {
   "cell_type": "code",
   "execution_count": null,
   "metadata": {},
   "outputs": [],
   "source": [
    "# command format az ml env setup -c --name {your environment name} --location {azure region} -g {name of created resource group}\n",
    "!az ml env setup -c --name mlistenv --location eastus2 -g mlistrg -y --debug"
   ]
  },
  {
   "cell_type": "code",
   "execution_count": null,
   "metadata": {},
   "outputs": [],
   "source": [
    "#This may take 10-20mins\n",
    "# command format az ml env show -g {name of created resource group} -n {your environment name}\n",
    "!az ml env show -g mlistrg -n mlistenv"
   ]
  },
  {
   "cell_type": "code",
   "execution_count": null,
   "metadata": {},
   "outputs": [],
   "source": [
    "# command format az ml env set -n {your environment name} -g {name of created resource group}\n",
    "!az ml env set -n mlistenv -g mlistrg --debug"
   ]
  },
  {
   "cell_type": "code",
   "execution_count": null,
   "metadata": {},
   "outputs": [],
   "source": [
    "# command format az ml service create realtime --model-file {model file/folder path} -f {scoring file} -n {your web service name} -s {json schema file} -r {runtime choice} -c {conda dependencies file}\n",
    "!az ml service create realtime -m model.pkl -f score_iris.py -n classifierservice -s service_schema.json -r python --debug"
   ]
  },
  {
   "cell_type": "code",
   "execution_count": 1,
   "metadata": {},
   "outputs": [
    {
     "data": {
      "text/plain": [
       "'\"\\\\\"Iris-setosa\\\\\"\"'"
      ]
     },
     "execution_count": 1,
     "metadata": {},
     "output_type": "execute_result"
    }
   ],
   "source": [
    "# Test your endpoint usign below code snippet\n",
    "import requests\n",
    "import json\n",
    "\n",
    "data = \"{\\\"input_df\\\": [{\\\"sepal width\\\": 3.6, \\\"sepal length\\\": 3.0, \\\"petal length\\\": 1.3, \\\"petal width\\\": 0.25}]}\"\n",
    "body = str.encode(data)\n",
    "\n",
    "url = 'http://YOUR SERVICE IP/api/v1/service/classifierservice/score'\n",
    "api_key = 'YOUR API KEY' \n",
    "headers = {'Content-Type':'application/json', 'Authorization':('Bearer '+ api_key)}\n",
    "\n",
    "resp = requests.post(url, body, headers=headers)\n",
    "resp.text"
   ]
  },
  {
   "cell_type": "code",
   "execution_count": null,
   "metadata": {},
   "outputs": [],
   "source": []
  }
 ],
 "metadata": {
  "kernelspec": {
   "display_name": "Python 3",
   "language": "python",
   "name": "python3"
  },
  "language_info": {
   "codemirror_mode": {
    "name": "ipython",
    "version": 3
   },
   "file_extension": ".py",
   "mimetype": "text/x-python",
   "name": "python",
   "nbconvert_exporter": "python",
   "pygments_lexer": "ipython3",
   "version": "3.5.2"
  }
 },
 "nbformat": 4,
 "nbformat_minor": 2
}
